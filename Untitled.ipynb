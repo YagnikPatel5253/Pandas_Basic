{
 "cells": [
  {
   "cell_type": "markdown",
   "id": "e1e5042a-5610-4005-b151-f53ee8c9da80",
   "metadata": {},
   "source": [
    "Question 1"
   ]
  },
  {
   "cell_type": "code",
   "execution_count": 1,
   "id": "227f306f-2b7f-4d7a-9039-617866998728",
   "metadata": {},
   "outputs": [
    {
     "name": "stdout",
     "output_type": "stream",
     "text": [
      "0     4\n",
      "1     8\n",
      "2    15\n",
      "3    16\n",
      "4    23\n",
      "5    42\n",
      "dtype: int64\n"
     ]
    }
   ],
   "source": [
    "import pandas as pd\n",
    "\n",
    "data = [4, 8, 15, 16, 23, 42]\n",
    "series = pd.Series(data)\n",
    "\n",
    "print(series)"
   ]
  },
  {
   "cell_type": "markdown",
   "id": "bf4b8005-b788-4550-9066-bde4ed13597a",
   "metadata": {},
   "source": [
    "Question 2"
   ]
  },
  {
   "cell_type": "code",
   "execution_count": 2,
   "id": "57ccf6f7-968a-4806-af44-a1210516d76c",
   "metadata": {},
   "outputs": [
    {
     "name": "stdout",
     "output_type": "stream",
     "text": [
      "0     1\n",
      "1     2\n",
      "2     3\n",
      "3     4\n",
      "4     5\n",
      "5     6\n",
      "6     7\n",
      "7     8\n",
      "8     9\n",
      "9    10\n",
      "dtype: int64\n"
     ]
    }
   ],
   "source": [
    "import pandas as pd\n",
    "\n",
    "my_list = [1, 2, 3, 4, 5, 6, 7, 8, 9, 10]\n",
    "series = pd.Series(my_list)\n",
    "\n",
    "print(series)"
   ]
  },
  {
   "cell_type": "markdown",
   "id": "34882615-8094-438d-a513-21102e44d7be",
   "metadata": {},
   "source": [
    "Question 3"
   ]
  },
  {
   "cell_type": "code",
   "execution_count": 4,
   "id": "cb6f570f-cb55-4064-85d4-c5b5d1a01d22",
   "metadata": {},
   "outputs": [
    {
     "name": "stdout",
     "output_type": "stream",
     "text": [
      "     Name  Age  Gender\n",
      "0   Alice   25  Female\n",
      "1     Bob   30    Male\n",
      "2  Claire   27  Female\n"
     ]
    }
   ],
   "source": [
    "import pandas as pd\n",
    "\n",
    "data = {\n",
    "    'Name': ['Alice', 'Bob', 'Claire'],\n",
    "    'Age': [25, 30, 27],\n",
    "    'Gender': ['Female', 'Male', 'Female']\n",
    "}\n",
    "\n",
    "df = pd.DataFrame(data)\n",
    "\n",
    "print(df)"
   ]
  },
  {
   "cell_type": "markdown",
   "id": "8682f8f3-ef4e-4cbc-8eb4-4ea58909414d",
   "metadata": {},
   "source": [
    "Question 4"
   ]
  },
  {
   "cell_type": "raw",
   "id": "67579fb0-bae9-4ada-82e4-bcc78556b9ea",
   "metadata": {},
   "source": [
    "--> In pandas, a DataFrame is a two-dimensional labeled data structure that consists of columns, which can be of different data types (e.g., numeric, string, boolean), and rows, which represent observations or instances. It is similar to a table or a spreadsheet in which each column represents a variable, and each row represents a specific record or observation.\n",
    "\n",
    "--> On the other hand, a Series is a one-dimensional labeled array-like object in pandas. It can be thought of as a single column of a DataFrame."
   ]
  },
  {
   "cell_type": "markdown",
   "id": "bfcabad3-5bd6-4887-96d7-17b526454760",
   "metadata": {},
   "source": [
    "Example of Data Frame:"
   ]
  },
  {
   "cell_type": "code",
   "execution_count": 8,
   "id": "850b4831-ca71-4968-af01-0c99751eb832",
   "metadata": {},
   "outputs": [
    {
     "name": "stdout",
     "output_type": "stream",
     "text": [
      "     Name  Age  Gender\n",
      "0   Alice   25  Female\n",
      "1     Bob   30    Male\n",
      "2  Claire   27  Female\n"
     ]
    }
   ],
   "source": [
    "import pandas as pd\n",
    "\n",
    "# Creating a DataFrame\n",
    "data = {\n",
    "    'Name': ['Alice', 'Bob', 'Claire'],\n",
    "    'Age': [25, 30, 27],\n",
    "    'Gender': ['Female', 'Male', 'Female']\n",
    "}\n",
    "df = pd.DataFrame(data)\n",
    "print(df)"
   ]
  },
  {
   "cell_type": "markdown",
   "id": "edba86ca-c2e3-47cb-b70b-c83304f7d0b2",
   "metadata": {},
   "source": [
    "Example of pandas.series: "
   ]
  },
  {
   "cell_type": "code",
   "execution_count": 9,
   "id": "d649803f-0c87-4571-b0d3-5fdc193f9cd8",
   "metadata": {},
   "outputs": [
    {
     "name": "stdout",
     "output_type": "stream",
     "text": [
      "0     Alice\n",
      "1       Bob\n",
      "2    Claire\n",
      "Name: Name, dtype: object\n"
     ]
    }
   ],
   "source": [
    "age_series = df['Name']\n",
    "print(age_series)"
   ]
  },
  {
   "cell_type": "markdown",
   "id": "fbff337a-33df-4aa7-a780-033377a20bbf",
   "metadata": {},
   "source": [
    "Question 5"
   ]
  },
  {
   "cell_type": "raw",
   "id": "7982e93b-99bd-4c91-bd2c-27123de23a76",
   "metadata": {},
   "source": [
    "--> head() and tail(): These functions allow you to view the first few rows (head()) or the last few rows (tail()) of a DataFrame.\n",
    "\n",
    "Example:\n",
    "df = pd.read_csv('data.csv')  # we are assuming that 'data.csv' contains our data\n",
    "print(df.head())  # Display the first 5 rows"
   ]
  },
  {
   "cell_type": "raw",
   "id": "a90ecec3-0a0f-4b0b-8b0f-c961fc306389",
   "metadata": {},
   "source": [
    "--> info(): This function provides a summary of the DataFrame, including the data types of each column and the number of non-null values. It helps to understand the structure and integrity of the data.\n",
    "\n",
    "example:\n",
    "df = pd.read_csv('data.csv')  # Assuming 'data.csv' contains our data\n",
    "print(df.info())  # Display information about the DataFrame"
   ]
  },
  {
   "cell_type": "raw",
   "id": "d1b9de85-f50c-4549-90ee-c2b6523440de",
   "metadata": {},
   "source": [
    "--> describe(): This function generates descriptive statistics of numerical columns in the DataFrame, such as count, mean, standard deviation, minimum, maximum, and quartiles.\n",
    "\n",
    "Example:\n",
    "df = pd.read_csv('data.csv')  # Assuming 'data.csv' contains our data\n",
    "print(df.describe())  # Display summary statistics of numerical columns"
   ]
  },
  {
   "cell_type": "raw",
   "id": "29201293-1409-4ca2-a1c5-92a744ad29cb",
   "metadata": {},
   "source": [
    "--> sort_values(): This method allows you to sort the DataFrame by one or more columns in either ascending or descending order. It is helpful for arranging data in a specific order based on certain criteria."
   ]
  },
  {
   "cell_type": "markdown",
   "id": "53987b3c-a6f6-4fe6-819b-4f751079b755",
   "metadata": {},
   "source": [
    "Question 6"
   ]
  },
  {
   "cell_type": "raw",
   "id": "ad6c9c92-17b2-4db4-8a55-a5f860022b77",
   "metadata": {},
   "source": [
    "--> In this Series & DataFrame is a mutable object while, Panel is an Immutable object."
   ]
  },
  {
   "cell_type": "markdown",
   "id": "fe8ae595-3abc-4863-a562-4e16da2e53fd",
   "metadata": {},
   "source": [
    "Question 7"
   ]
  },
  {
   "cell_type": "code",
   "execution_count": 10,
   "id": "bdfe64e6-bf15-4018-a9a6-0fd591245672",
   "metadata": {},
   "outputs": [
    {
     "name": "stdout",
     "output_type": "stream",
     "text": [
      "     Name  Age  Gender\n",
      "0   Alice   25  Female\n",
      "1     Bob   30    Male\n",
      "2  Claire   27  Female\n"
     ]
    }
   ],
   "source": [
    "import pandas as pd\n",
    "\n",
    "# Create individual Series\n",
    "name_series = pd.Series(['Alice', 'Bob', 'Claire'])\n",
    "age_series = pd.Series([25, 30, 27])\n",
    "gender_series = pd.Series(['Female', 'Male', 'Female'])\n",
    "\n",
    "# Create DataFrame using the Series\n",
    "data = {\n",
    "    'Name': name_series,\n",
    "    'Age': age_series,\n",
    "    'Gender': gender_series\n",
    "}\n",
    "df = pd.DataFrame(data)\n",
    "\n",
    "print(df)"
   ]
  },
  {
   "cell_type": "code",
   "execution_count": null,
   "id": "cd2faa1c-402c-48a3-a1f7-820ffeb86784",
   "metadata": {},
   "outputs": [],
   "source": []
  }
 ],
 "metadata": {
  "kernelspec": {
   "display_name": "Python 3 (ipykernel)",
   "language": "python",
   "name": "python3"
  },
  "language_info": {
   "codemirror_mode": {
    "name": "ipython",
    "version": 3
   },
   "file_extension": ".py",
   "mimetype": "text/x-python",
   "name": "python",
   "nbconvert_exporter": "python",
   "pygments_lexer": "ipython3",
   "version": "3.10.8"
  }
 },
 "nbformat": 4,
 "nbformat_minor": 5
}
